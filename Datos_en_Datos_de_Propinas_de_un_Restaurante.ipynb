{
  "nbformat": 4,
  "nbformat_minor": 0,
  "metadata": {
    "colab": {
      "provenance": [],
      "include_colab_link": true
    },
    "kernelspec": {
      "name": "python3",
      "display_name": "Python 3"
    },
    "language_info": {
      "name": "python"
    }
  },
  "cells": [
    {
      "cell_type": "markdown",
      "metadata": {
        "id": "view-in-github",
        "colab_type": "text"
      },
      "source": [
        "<a href=\"https://colab.research.google.com/github/Krylze/Data-Behavior-Patterns/blob/main/Datos_en_Datos_de_Propinas_de_un_Restaurante.ipynb\" target=\"_parent\"><img src=\"https://colab.research.google.com/assets/colab-badge.svg\" alt=\"Open In Colab\"/></a>"
      ]
    },
    {
      "cell_type": "markdown",
      "source": [
        "##  Carga y Exploración de Datos"
      ],
      "metadata": {
        "id": "i6u_KG5cbwpt"
      }
    },
    {
      "cell_type": "code",
      "execution_count": null,
      "metadata": {
        "colab": {
          "base_uri": "https://localhost:8080/"
        },
        "id": "t0H-gCM-bdy6",
        "outputId": "a6cc1565-f68b-43db-ed93-2669264e52bf"
      },
      "outputs": [
        {
          "output_type": "stream",
          "name": "stdout",
          "text": [
            "   total_bill   tip     sex smoker  day    time  size\n",
            "0       16.99  1.01  Female     No  Sun  Dinner     2\n",
            "1       10.34  1.66    Male     No  Sun  Dinner     3\n",
            "2       21.01  3.50    Male     No  Sun  Dinner     3\n",
            "3       23.68  3.31    Male     No  Sun  Dinner     2\n",
            "4       24.59  3.61  Female     No  Sun  Dinner     4\n"
          ]
        }
      ],
      "source": [
        "import pandas as pd\n",
        "\n",
        "# Cargar el conjunto de datos\n",
        "url = 'https://raw.githubusercontent.com/mwaskom/seaborn-data/master/tips.csv'\n",
        "df = pd.read_csv(url)\n",
        "\n",
        "# Mostrar las primeras filas del DataFrame\n",
        "print(df.head())"
      ]
    },
    {
      "cell_type": "code",
      "source": [
        "# Resumen estadístico\n",
        "print(df.describe())\n",
        "\n",
        "# Información sobre el DataFrame\n",
        "print(df.info())\n",
        "\n",
        "# Visualización de la distribución de variables\n",
        "import seaborn as sns\n",
        "import matplotlib.pyplot as plt\n",
        "\n",
        "sns.histplot(df['total_bill'], bins=30)\n",
        "plt.title('Distribución del Total de la Cuenta')\n",
        "plt.xlabel('Total Bill')\n",
        "plt.ylabel('Frecuencia')\n",
        "plt.show()"
      ],
      "metadata": {
        "colab": {
          "base_uri": "https://localhost:8080/",
          "height": 889
        },
        "id": "zMUsc7YpbmdL",
        "outputId": "2f75798c-906f-4a68-b051-e0bd0914e786"
      },
      "execution_count": null,
      "outputs": [
        {
          "output_type": "stream",
          "name": "stdout",
          "text": [
            "       total_bill         tip        size\n",
            "count  244.000000  244.000000  244.000000\n",
            "mean    19.785943    2.998279    2.569672\n",
            "std      8.902412    1.383638    0.951100\n",
            "min      3.070000    1.000000    1.000000\n",
            "25%     13.347500    2.000000    2.000000\n",
            "50%     17.795000    2.900000    2.000000\n",
            "75%     24.127500    3.562500    3.000000\n",
            "max     50.810000   10.000000    6.000000\n",
            "<class 'pandas.core.frame.DataFrame'>\n",
            "RangeIndex: 244 entries, 0 to 243\n",
            "Data columns (total 7 columns):\n",
            " #   Column      Non-Null Count  Dtype  \n",
            "---  ------      --------------  -----  \n",
            " 0   total_bill  244 non-null    float64\n",
            " 1   tip         244 non-null    float64\n",
            " 2   sex         244 non-null    object \n",
            " 3   smoker      244 non-null    object \n",
            " 4   day         244 non-null    object \n",
            " 5   time        244 non-null    object \n",
            " 6   size        244 non-null    int64  \n",
            "dtypes: float64(2), int64(1), object(4)\n",
            "memory usage: 13.5+ KB\n",
            "None\n"
          ]
        },
        {
          "output_type": "display_data",
          "data": {
            "text/plain": [
              "<Figure size 640x480 with 1 Axes>"
            ],
            "image/png": "[encoded data removed]"
          },
          "metadata": {}
        }
      ]
    },
    {
      "cell_type": "markdown",
      "source": [
        "## Selección de Datos"
      ],
      "metadata": {
        "id": "Xqh4XUIWb2_K"
      }
    },
    {
      "cell_type": "code",
      "source": [
        "# Seleccionar columnas específicas\n",
        "selected_columns = df[['total_bill', 'tip', 'sex', 'smoker', 'day', 'time', 'size']]\n",
        "print(selected_columns.head())"
      ],
      "metadata": {
        "colab": {
          "base_uri": "https://localhost:8080/"
        },
        "id": "pUJNk6Rbbqg9",
        "outputId": "6fb62279-d485-46cc-a2ac-88a7af2ffcf6"
      },
      "execution_count": null,
      "outputs": [
        {
          "output_type": "stream",
          "name": "stdout",
          "text": [
            "   total_bill   tip     sex smoker  day    time  size\n",
            "0       16.99  1.01  Female     No  Sun  Dinner     2\n",
            "1       10.34  1.66    Male     No  Sun  Dinner     3\n",
            "2       21.01  3.50    Male     No  Sun  Dinner     3\n",
            "3       23.68  3.31    Male     No  Sun  Dinner     2\n",
            "4       24.59  3.61  Female     No  Sun  Dinner     4\n"
          ]
        }
      ]
    },
    {
      "cell_type": "code",
      "source": [
        "# Filtrar filas donde total_bill > 20\n",
        "filtered_df = selected_columns[selected_columns['total_bill'] > 20]\n",
        "print(filtered_df.head())"
      ],
      "metadata": {
        "colab": {
          "base_uri": "https://localhost:8080/"
        },
        "id": "1tA1qiXWb4gH",
        "outputId": "a6d0cf13-d598-4417-c8bf-d0d57f159dd6"
      },
      "execution_count": null,
      "outputs": [
        {
          "output_type": "stream",
          "name": "stdout",
          "text": [
            "   total_bill   tip     sex smoker  day    time  size\n",
            "2       21.01  3.50    Male     No  Sun  Dinner     3\n",
            "3       23.68  3.31    Male     No  Sun  Dinner     2\n",
            "4       24.59  3.61  Female     No  Sun  Dinner     4\n",
            "5       25.29  4.71    Male     No  Sun  Dinner     4\n",
            "7       26.88  3.12    Male     No  Sun  Dinner     4\n"
          ]
        }
      ]
    },
    {
      "cell_type": "code",
      "source": [
        "# Seleccionar las primeras 10 filas\n",
        "first_10_rows = filtered_df.head(10)\n",
        "print(first_10_rows)"
      ],
      "metadata": {
        "colab": {
          "base_uri": "https://localhost:8080/"
        },
        "id": "SIQjbos4cA5R",
        "outputId": "b4f6e5f1-dc0b-426d-e1d3-2aad53218c29"
      },
      "execution_count": null,
      "outputs": [
        {
          "output_type": "stream",
          "name": "stdout",
          "text": [
            "    total_bill   tip     sex smoker  day    time  size\n",
            "2        21.01  3.50    Male     No  Sun  Dinner     3\n",
            "3        23.68  3.31    Male     No  Sun  Dinner     2\n",
            "4        24.59  3.61  Female     No  Sun  Dinner     4\n",
            "5        25.29  4.71    Male     No  Sun  Dinner     4\n",
            "7        26.88  3.12    Male     No  Sun  Dinner     4\n",
            "11       35.26  5.00  Female     No  Sun  Dinner     4\n",
            "15       21.58  3.92    Male     No  Sun  Dinner     2\n",
            "19       20.65  3.35    Male     No  Sat  Dinner     3\n",
            "21       20.29  2.75  Female     No  Sat  Dinner     2\n",
            "23       39.42  7.58    Male     No  Sat  Dinner     4\n"
          ]
        }
      ]
    },
    {
      "cell_type": "markdown",
      "source": [
        "## Selección Avanzada de Datos"
      ],
      "metadata": {
        "id": "G_uGGg06cG0o"
      }
    },
    {
      "cell_type": "code",
      "source": [
        "# Filtrar filas donde sex es \"Male\" o \"Female\"\n",
        "gender_filtered = selected_columns[selected_columns['sex'].isin(['Male', 'Female'])]\n",
        "print(gender_filtered.head())"
      ],
      "metadata": {
        "colab": {
          "base_uri": "https://localhost:8080/"
        },
        "id": "SFzupf_IcDpY",
        "outputId": "d093b79a-a91a-47bd-d864-afe255163c1c"
      },
      "execution_count": null,
      "outputs": [
        {
          "output_type": "stream",
          "name": "stdout",
          "text": [
            "   total_bill   tip     sex smoker  day    time  size\n",
            "0       16.99  1.01  Female     No  Sun  Dinner     2\n",
            "1       10.34  1.66    Male     No  Sun  Dinner     3\n",
            "2       21.01  3.50    Male     No  Sun  Dinner     3\n",
            "3       23.68  3.31    Male     No  Sun  Dinner     2\n",
            "4       24.59  3.61  Female     No  Sun  Dinner     4\n"
          ]
        }
      ]
    },
    {
      "cell_type": "code",
      "source": [
        "# Filtrar filas donde total_bill está entre 10 y 30\n",
        "bill_between = selected_columns[selected_columns['total_bill'].between(10, 30)]\n",
        "print(bill_between.head())"
      ],
      "metadata": {
        "colab": {
          "base_uri": "https://localhost:8080/"
        },
        "id": "HO-Beh6IcLba",
        "outputId": "81411936-6677-4b54-a272-e95d267e9fa0"
      },
      "execution_count": null,
      "outputs": [
        {
          "output_type": "stream",
          "name": "stdout",
          "text": [
            "   total_bill   tip     sex smoker  day    time  size\n",
            "0       16.99  1.01  Female     No  Sun  Dinner     2\n",
            "1       10.34  1.66    Male     No  Sun  Dinner     3\n",
            "2       21.01  3.50    Male     No  Sun  Dinner     3\n",
            "3       23.68  3.31    Male     No  Sun  Dinner     2\n",
            "4       24.59  3.61  Female     No  Sun  Dinner     4\n"
          ]
        }
      ]
    },
    {
      "cell_type": "code",
      "source": [
        "# Rellenar valores faltantes en size con el valor medio\n",
        "df['size'].fillna(df['size'].mean(), inplace=True)"
      ],
      "metadata": {
        "colab": {
          "base_uri": "https://localhost:8080/"
        },
        "id": "-nWwgp_6cO6S",
        "outputId": "fe085daf-07a6-4055-da14-3836e8904c64"
      },
      "execution_count": null,
      "outputs": [
        {
          "output_type": "stream",
          "name": "stderr",
          "text": [
            "<ipython-input-9-9ceb4ac1cfd7>:2: FutureWarning: A value is trying to be set on a copy of a DataFrame or Series through chained assignment using an inplace method.\n",
            "The behavior will change in pandas 3.0. This inplace method will never work because the intermediate object on which we are setting values always behaves as a copy.\n",
            "\n",
            "For example, when doing 'df[col].method(value, inplace=True)', try using 'df.method({col: value}, inplace=True)' or df[col] = df[col].method(value) instead, to perform the operation inplace on the original object.\n",
            "\n",
            "\n",
            "  df['size'].fillna(df['size'].mean(), inplace=True)\n"
          ]
        }
      ]
    },
    {
      "cell_type": "code",
      "source": [
        "# Seleccionar una muestra aleatoria del 10%\n",
        "sample_df = selected_columns.sample(frac=0.1)\n",
        "print(sample_df)"
      ],
      "metadata": {
        "colab": {
          "base_uri": "https://localhost:8080/"
        },
        "id": "rL_ZPJvEcUDj",
        "outputId": "566ff5dd-b9ff-4ce1-93ec-af5eaae0f030"
      },
      "execution_count": null,
      "outputs": [
        {
          "output_type": "stream",
          "name": "stdout",
          "text": [
            "     total_bill   tip     sex smoker   day    time  size\n",
            "220       12.16  2.20    Male    Yes   Fri   Lunch     2\n",
            "90        28.97  3.00    Male    Yes   Fri  Dinner     2\n",
            "171       15.81  3.16    Male    Yes   Sat  Dinner     2\n",
            "169       10.63  2.00  Female    Yes   Sat  Dinner     2\n",
            "21        20.29  2.75  Female     No   Sat  Dinner     2\n",
            "199       13.51  2.00    Male    Yes  Thur   Lunch     2\n",
            "228       13.28  2.72    Male     No   Sat  Dinner     2\n",
            "100       11.35  2.50  Female    Yes   Fri  Dinner     2\n",
            "38        18.69  2.31    Male     No   Sat  Dinner     3\n",
            "114       25.71  4.00  Female     No   Sun  Dinner     3\n",
            "122       14.26  2.50    Male     No  Thur   Lunch     2\n",
            "64        17.59  2.64    Male     No   Sat  Dinner     3\n",
            "161       12.66  2.50    Male     No   Sun  Dinner     2\n",
            "214       28.17  6.50  Female    Yes   Sat  Dinner     3\n",
            "221       13.42  3.48  Female    Yes   Fri   Lunch     2\n",
            "227       20.45  3.00    Male     No   Sat  Dinner     4\n",
            "68        20.23  2.01    Male     No   Sat  Dinner     2\n",
            "95        40.17  4.73    Male    Yes   Fri  Dinner     4\n",
            "117       10.65  1.50  Female     No  Thur   Lunch     2\n",
            "164       17.51  3.00  Female    Yes   Sun  Dinner     2\n",
            "16        10.33  1.67  Female     No   Sun  Dinner     3\n",
            "43         9.68  1.32    Male     No   Sun  Dinner     2\n",
            "109       14.31  4.00  Female    Yes   Sat  Dinner     2\n",
            "91        22.49  3.50    Male     No   Fri  Dinner     2\n"
          ]
        }
      ]
    },
    {
      "cell_type": "code",
      "source": [
        "# Seleccionar las 5 filas con los mayores valores en total_bill\n",
        "top_5_bills = selected_columns.nlargest(5, 'total_bill')\n",
        "print(top_5_bills)"
      ],
      "metadata": {
        "colab": {
          "base_uri": "https://localhost:8080/"
        },
        "id": "BId1tCOxcWv0",
        "outputId": "46546b2d-df41-4d31-bbe9-378f83d60206"
      },
      "execution_count": null,
      "outputs": [
        {
          "output_type": "stream",
          "name": "stdout",
          "text": [
            "     total_bill    tip   sex smoker  day    time  size\n",
            "170       50.81  10.00  Male    Yes  Sat  Dinner     3\n",
            "212       48.33   9.00  Male     No  Sat  Dinner     4\n",
            "59        48.27   6.73  Male     No  Sat  Dinner     4\n",
            "156       48.17   5.00  Male     No  Sun  Dinner     6\n",
            "182       45.35   3.50  Male    Yes  Sun  Dinner     3\n"
          ]
        }
      ]
    },
    {
      "cell_type": "code",
      "source": [
        "# Seleccionar las 5 filas con los menores valores en total_bill\n",
        "bottom_5_bills = selected_columns.nsmallest(5, 'total_bill')\n",
        "print(bottom_5_bills)"
      ],
      "metadata": {
        "colab": {
          "base_uri": "https://localhost:8080/"
        },
        "id": "-0zUZgQwcaAY",
        "outputId": "cedc6586-8ea6-4520-c236-468d7ec742b1"
      },
      "execution_count": null,
      "outputs": [
        {
          "output_type": "stream",
          "name": "stdout",
          "text": [
            "     total_bill   tip     sex smoker   day    time  size\n",
            "67         3.07  1.00  Female    Yes   Sat  Dinner     1\n",
            "92         5.75  1.00  Female    Yes   Fri  Dinner     2\n",
            "111        7.25  1.00  Female     No   Sat  Dinner     1\n",
            "172        7.25  5.15    Male    Yes   Sun  Dinner     2\n",
            "149        7.51  2.00    Male     No  Thur   Lunch     2\n"
          ]
        }
      ]
    },
    {
      "cell_type": "markdown",
      "source": [
        "## Visualización de Datos Seleccionados"
      ],
      "metadata": {
        "id": "umR-wJibcc5Y"
      }
    },
    {
      "cell_type": "code",
      "source": [
        "sns.histplot(selected_columns['total_bill'], bins=30)\n",
        "plt.title('Distribución del Total de la Cuenta')\n",
        "plt.xlabel('Total Bill')\n",
        "plt.ylabel('Frecuencia')\n",
        "plt.show()"
      ],
      "metadata": {
        "colab": {
          "base_uri": "https://localhost:8080/",
          "height": 472
        },
        "id": "u9wnD8qfcfv2",
        "outputId": "dcca7852-e848-4bf7-cd8a-aa4cd1b67ddc"
      },
      "execution_count": null,
      "outputs": [
        {
          "output_type": "display_data",
          "data": {
            "text/plain": [
              "<Figure size 640x480 with 1 Axes>"
            ],
            "image/png": "[encoded data removed]"
          },
          "metadata": {}
        }
      ]
    },
    {
      "cell_type": "code",
      "source": [
        "average_by_gender = selected_columns.groupby('sex')['total_bill'].mean().reset_index()\n",
        "sns.barplot(x='sex', y='total_bill', data=average_by_gender)\n",
        "plt.title('Total Promedio por Género')\n",
        "plt.xlabel('Género')\n",
        "plt.ylabel('Total Promedio')\n",
        "plt.show()"
      ],
      "metadata": {
        "colab": {
          "base_uri": "https://localhost:8080/",
          "height": 472
        },
        "id": "nxwBs0VvclG2",
        "outputId": "7b42e9a6-8374-4881-b420-ea7728b7e545"
      },
      "execution_count": null,
      "outputs": [
        {
          "output_type": "display_data",
          "data": {
            "text/plain": [
              "<Figure size 640x480 with 1 Axes>"
            ],
            "image/png": "[encoded data removed]"
          },
          "metadata": {}
        }
      ]
    },
    {
      "cell_type": "markdown",
      "source": [
        "[texto del vínculo](https://)## Análisis y Reflexión\n",
        "\n",
        "### 1. ¿Qué criterios utilizaste para seleccionar los datos?\n",
        "- **Relevancia**: Se eligieron columnas clave como `total_bill`, `tip`, `sex`, `smoker`, `day`, `time` y `size`.\n",
        "- **Condiciones**: Se filtraron transacciones con `total_bill` > 20 para enfocarse en datos significativos.\n",
        "- **Inclusión de Género**: Se limitaron a \"Male\" y \"Female\" para análisis comparativos.\n",
        "- **Rango de Valores**: Se usó `between` para seleccionar cuentas entre 10 y 30.\n",
        "- **Manejo de Faltantes**: Se rellenaron valores faltantes en `size` con la media.\n",
        "\n",
        "### 2. ¿Cómo afectó la selección de datos a la calidad del conjunto de datos?\n",
        "- **Reducción de Ruido**: Eliminó transacciones irrelevantes, mejorando la precisión.\n",
        "- **Mejora de Representatividad**: Aumentó la claridad en las tendencias de propinas.\n",
        "- **Integridad de Datos**: Manejo de faltantes mejoró la calidad general del conjunto.\n",
        "- **Facilitación del Análisis**: Hizo que las visualizaciones fueran más claras y comprensibles.\n",
        "\n",
        "### 3. ¿Qué información adicional descubriste a través de la selección de datos?\n",
        "- **Patrones en Propinas**: Identificación de diferencias en propinas según género.\n",
        "- **Tendencias por Día y Hora**: Observaciones sobre cuándo se dejan más propinas.\n",
        "- **Impacto del Tamaño del Grupo**: Variaciones en propinas según el tamaño del grupo.\n",
        "- **Distribución General**: Entendimiento sobre cómo se distribuyen los gastos entre clientes."
      ],
      "metadata": {
        "id": "VsumAYoec8CD"
      }
    }
  ]
}