{
  "nbformat": 4,
  "nbformat_minor": 0,
  "metadata": {
    "colab": {
      "provenance": [],
      "authorship_tag": "ABX9TyOkOT2EplWu6EhF0sdT9kvI",
      "include_colab_link": true
    },
    "kernelspec": {
      "name": "python3",
      "display_name": "Python 3"
    },
    "language_info": {
      "name": "python"
    }
  },
  "cells": [
    {
      "cell_type": "markdown",
      "metadata": {
        "id": "view-in-github",
        "colab_type": "text"
      },
      "source": [
        "<a href=\"https://colab.research.google.com/github/Krylze/Data-Behavior-Patterns/blob/main/Diabetes.ipynb\" target=\"_parent\"><img src=\"https://colab.research.google.com/assets/colab-badge.svg\" alt=\"Open In Colab\"/></a>"
      ]
    },
    {
      "cell_type": "code",
      "source": [
        "from google.colab import drive\n",
        "drive.mount('/content/drive')"
      ],
      "metadata": {
        "colab": {
          "base_uri": "https://localhost:8080/"
        },
        "id": "PVvxh-1cvkvy",
        "outputId": "8c4d7a4a-bb5e-4009-d1c6-20199b3fef02"
      },
      "execution_count": null,
      "outputs": [
        {
          "output_type": "stream",
          "name": "stdout",
          "text": [
            "Mounted at /content/drive\n"
          ]
        }
      ]
    },
    {
      "cell_type": "code",
      "execution_count": null,
      "metadata": {
        "colab": {
          "base_uri": "https://localhost:8080/"
        },
        "id": "bfRAAOwi6lnH",
        "outputId": "e6d2b272-e659-4d98-aea4-0f2a431b880b"
      },
      "outputs": [
        {
          "output_type": "stream",
          "name": "stdout",
          "text": [
            "Requirement already satisfied: pandas in /usr/local/lib/python3.10/dist-packages (2.0.3)\n",
            "Requirement already satisfied: matplotlib in /usr/local/lib/python3.10/dist-packages (3.7.1)\n",
            "Requirement already satisfied: seaborn in /usr/local/lib/python3.10/dist-packages (0.13.1)\n",
            "Requirement already satisfied: scikit-learn in /usr/local/lib/python3.10/dist-packages (1.2.2)\n",
            "Requirement already satisfied: python-dateutil>=2.8.2 in /usr/local/lib/python3.10/dist-packages (from pandas) (2.8.2)\n",
            "Requirement already satisfied: pytz>=2020.1 in /usr/local/lib/python3.10/dist-packages (from pandas) (2023.4)\n",
            "Requirement already satisfied: tzdata>=2022.1 in /usr/local/lib/python3.10/dist-packages (from pandas) (2024.1)\n",
            "Requirement already satisfied: numpy>=1.21.0 in /usr/local/lib/python3.10/dist-packages (from pandas) (1.25.2)\n",
            "Requirement already satisfied: contourpy>=1.0.1 in /usr/local/lib/python3.10/dist-packages (from matplotlib) (1.2.1)\n",
            "Requirement already satisfied: cycler>=0.10 in /usr/local/lib/python3.10/dist-packages (from matplotlib) (0.12.1)\n",
            "Requirement already satisfied: fonttools>=4.22.0 in /usr/local/lib/python3.10/dist-packages (from matplotlib) (4.53.1)\n",
            "Requirement already satisfied: kiwisolver>=1.0.1 in /usr/local/lib/python3.10/dist-packages (from matplotlib) (1.4.5)\n",
            "Requirement already satisfied: packaging>=20.0 in /usr/local/lib/python3.10/dist-packages (from matplotlib) (24.1)\n",
            "Requirement already satisfied: pillow>=6.2.0 in /usr/local/lib/python3.10/dist-packages (from matplotlib) (9.4.0)\n",
            "Requirement already satisfied: pyparsing>=2.3.1 in /usr/local/lib/python3.10/dist-packages (from matplotlib) (3.1.2)\n",
            "Requirement already satisfied: scipy>=1.3.2 in /usr/local/lib/python3.10/dist-packages (from scikit-learn) (1.11.4)\n",
            "Requirement already satisfied: joblib>=1.1.1 in /usr/local/lib/python3.10/dist-packages (from scikit-learn) (1.4.2)\n",
            "Requirement already satisfied: threadpoolctl>=2.0.0 in /usr/local/lib/python3.10/dist-packages (from scikit-learn) (3.5.0)\n",
            "Requirement already satisfied: six>=1.5 in /usr/local/lib/python3.10/dist-packages (from python-dateutil>=2.8.2->pandas) (1.16.0)\n"
          ]
        }
      ],
      "source": [
        "!pip install pandas matplotlib seaborn scikit-learn\n",
        "\n",
        "import pandas as pd\n",
        "import numpy as np\n",
        "import matplotlib.pyplot as plt\n",
        "import seaborn as sns\n",
        "from sklearn.model_selection import train_test_split\n",
        "from sklearn.preprocessing import StandardScaler\n",
        "from sklearn.ensemble import RandomForestClassifier\n",
        "from sklearn.metrics import confusion_matrix, classification_report, accuracy_score\n",
        "from sklearn.neighbors import KNeighborsClassifier\n",
        "from sklearn.model_selection import train_test_split\n",
        "from sklearn.metrics import accuracy_score"
      ]
    },
    {
      "cell_type": "code",
      "source": [
        "df1 = pd.read_csv('/content/drive/MyDrive/Colab Notebooks/Patrones de Comportamiento de Datos/Diabetes/data-33', sep ='\\t', header=None)\n",
        "df2 = pd.read_csv('/content/drive/MyDrive/Colab Notebooks/Patrones de Comportamiento de Datos/Diabetes/NPH insulin dose', sep ='\\t', header=None)\n",
        "df3 = pd.read_csv('/content/drive/MyDrive/Colab Notebooks/Patrones de Comportamiento de Datos/Diabetes/UltraLente insulin dose', sep ='\\t', header=None)\n",
        "df4 = pd.read_csv('/content/drive/MyDrive/Colab Notebooks/Patrones de Comportamiento de Datos/Diabetes/Unspecified blood glucose measurement', sep ='\\t', header=None)\n",
        "df5 = pd.read_csv('/content/drive/MyDrive/Colab Notebooks/Patrones de Comportamiento de Datos/Diabetes/Unspecified blood glucose measurement2', sep ='\\t', header=None)\n",
        "df6 = pd.read_csv('/content/drive/MyDrive/Colab Notebooks/Patrones de Comportamiento de Datos/Diabetes/Pre-breakfast blood glucose measurement', sep ='\\t', header=None)\n",
        "df7 = pd.read_csv('/content/drive/MyDrive/Colab Notebooks/Patrones de Comportamiento de Datos/Diabetes/Post-breakfast blood glucose measurement', sep ='\\t', header=None)\n",
        "df8 = pd.read_csv('/content/drive/MyDrive/Colab Notebooks/Patrones de Comportamiento de Datos/Diabetes/Pre-lunch blood glucose measurement', sep ='\\t', header=None)\n",
        "df9 = pd.read_csv('/content/drive/MyDrive/Colab Notebooks/Patrones de Comportamiento de Datos/Diabetes/Post-lunch blood glucose measurement', sep ='\\t', header=None)\n",
        "df10 = pd.read_csv('/content/drive/MyDrive/Colab Notebooks/Patrones de Comportamiento de Datos/Diabetes/Pre-supper blood glucose measurement', sep ='\\t', header=None)\n",
        "df11 = pd.read_csv('/content/drive/MyDrive/Colab Notebooks/Patrones de Comportamiento de Datos/Diabetes/Post-supper blood glucose measurement', sep ='\\t', header=None)\n",
        "df12 = pd.read_csv('/content/drive/MyDrive/Colab Notebooks/Patrones de Comportamiento de Datos/Diabetes/Presnack blood glucose measurement', sep ='\\t', header=None)\n",
        "df13 = pd.read_csv('/content/drive/MyDrive/Colab Notebooks/Patrones de Comportamiento de Datos/Diabetes/Hypoglycemic symptons', sep ='\\t', header=None)\n",
        "df14 = pd.read_csv('/content/drive/MyDrive/Colab Notebooks/Patrones de Comportamiento de Datos/Diabetes/Typical meal ingestion', sep ='\\t', header=None)\n",
        "df15 = pd.read_csv('/content/drive/MyDrive/Colab Notebooks/Patrones de Comportamiento de Datos/Diabetes/More-than-usual meal ingestion', sep ='\\t', header=None)\n",
        "df16 = pd.read_csv('/content/drive/MyDrive/Colab Notebooks/Patrones de Comportamiento de Datos/Diabetes/Less-than-usual meal ingestion', sep ='\\t', header=None)\n",
        "df17 = pd.read_csv('/content/drive/MyDrive/Colab Notebooks/Patrones de Comportamiento de Datos/Diabetes/Typical exercise activity', sep ='\\t', header=None)\n",
        "df18 = pd.read_csv('/content/drive/MyDrive/Colab Notebooks/Patrones de Comportamiento de Datos/Diabetes/More-than-usual exercise activity', sep ='\\t', header=None)\n",
        "\n",
        "dfs = [df1, df2, df3, df4, df5, df6, df7, df8, df9, df10, df11, df12, df13, df14, df15, df16, df17, df18]\n",
        "df = pd.concat(dfs)\n",
        "\n",
        "columnNames = [\"Date\", \"Time\", \"Code\", \"Value\"]\n",
        "for df in dfs:\n",
        "    df.columns = columnNames\n",
        "\n",
        "for column in df.columns:\n",
        "  print(f\"Column {column}: {df[column].dtype}\")\n",
        "\n",
        "df['Date'] = pd.to_datetime(df['Date'], format='%m-%d-%Y')\n",
        "\n",
        "\n",
        "print(df)"
      ],
      "metadata": {
        "colab": {
          "base_uri": "https://localhost:8080/"
        },
        "id": "b6lmjwliLgCf",
        "outputId": "69817c26-7c96-456a-b5c9-abcb0c75b131"
      },
      "execution_count": null,
      "outputs": [
        {
          "output_type": "stream",
          "name": "stdout",
          "text": [
            "Column Date: object\n",
            "Column Time: object\n",
            "Column Code: int64\n",
            "Column Value: float64\n",
            "          Date   Time  Code  Value\n",
            "0   1989-03-13  08:00    58  354.0\n",
            "1   1989-03-13  08:00    33    2.0\n",
            "2   1989-03-13  08:00    34    8.0\n",
            "3   1989-03-13  18:00    62  275.0\n",
            "4   1989-03-13  18:00    33    1.0\n",
            "..         ...    ...   ...    ...\n",
            "336 1989-05-09  08:00    33    1.0\n",
            "337 1989-05-09  08:00    34    7.0\n",
            "338 1989-05-10  08:00    34    7.0\n",
            "339 1989-05-11  08:00    34    7.0\n",
            "340 1989-05-12  08:00    34    7.0\n",
            "\n",
            "[341 rows x 4 columns]\n"
          ]
        }
      ]
    },
    {
      "cell_type": "code",
      "source": [
        "#df.drop('Date', axis=1, inplace=True)\n",
        "df.drop('Time', axis=1, inplace=True)\n",
        "print(df.columns)"
      ],
      "metadata": {
        "colab": {
          "base_uri": "https://localhost:8080/"
        },
        "id": "nU21SVL6fS5F",
        "outputId": "a2669e45-09c5-4539-9ad7-63f44a1c33d9"
      },
      "execution_count": null,
      "outputs": [
        {
          "output_type": "stream",
          "name": "stdout",
          "text": [
            "Index(['Code', 'Value'], dtype='object')\n"
          ]
        }
      ]
    },
    {
      "source": [
        "# Assuming 'df' is your concatenated dataframe and your target variable is 'Code'\n",
        "X = df.drop('Code', axis=1)  # Features\n",
        "y = df['Code']  # Target variable\n",
        "\n",
        "# Split data into training and testing sets\n",
        "X_train, X_test, y_train, y_test = train_test_split(X, y, test_size=0.2, random_state=42)\n",
        "\n",
        "# Create KNN classifier with k=5 (you can adjust this)\n",
        "knn = KNeighborsClassifier(n_neighbors=5)\n",
        "\n",
        "# Train the model\n",
        "knn.fit(X_train, y_train)\n",
        "\n",
        "# Make predictions\n",
        "y_pred = knn.predict(X_test)\n",
        "\n",
        "# Evaluate the model\n",
        "accuracy = accuracy_score(y_test, y_pred)\n",
        "print(f\"Accuracy: {accuracy}\")"
      ],
      "cell_type": "code",
      "metadata": {
        "colab": {
          "base_uri": "https://localhost:8080/"
        },
        "id": "Rd5MAmNvRN8t",
        "outputId": "b770e407-19d5-4846-b38d-c1927fe58b96"
      },
      "execution_count": null,
      "outputs": [
        {
          "output_type": "stream",
          "name": "stdout",
          "text": [
            "Accuracy: 0.8115942028985508\n"
          ]
        }
      ]
    },
    {
      "cell_type": "code",
      "source": [
        "import matplotlib.pyplot as plt\n",
        "import seaborn as sns\n",
        "from sklearn.metrics import confusion_matrix, classification_report\n",
        "\n",
        "# Generar la matriz de confusión\n",
        "conf_matrix = confusion_matrix(y_test, y_pred)\n",
        "\n",
        "# Visualización de la matriz de confusión como un heatmap\n",
        "plt.figure(figsize=(8, 6))\n",
        "sns.heatmap(conf_matrix, annot=True, fmt=\"d\", cmap=\"Blues\", cbar=False)\n",
        "plt.title('Matriz de Confusión')\n",
        "plt.xlabel('Predicción')\n",
        "plt.ylabel('Valores Reales')\n",
        "plt.show()\n",
        "\n",
        "# Reporte de clasificación con precision, recall y F1 Score\n",
        "print(\"Reporte de Clasificación:\")\n",
        "print(classification_report(y_test, y_pred))\n"
      ],
      "metadata": {
        "colab": {
          "base_uri": "https://localhost:8080/",
          "height": 931
        },
        "id": "ntInz-uIgMuI",
        "outputId": "25386688-8a9b-4ac1-ce5f-f287ff862b7d"
      },
      "execution_count": null,
      "outputs": [
        {
          "output_type": "display_data",
          "data": {
            "text/plain": [
              "<Figure size 800x600 with 1 Axes>"
            ],
            "image/png": "[encoded data removed]"
          },
          "metadata": {}
        },
        {
          "output_type": "stream",
          "name": "stdout",
          "text": [
            "Reporte de Clasificación:\n",
            "              precision    recall  f1-score   support\n",
            "\n",
            "          33       1.00      1.00      1.00        31\n",
            "          34       1.00      1.00      1.00        18\n",
            "          48       0.00      0.00      0.00         3\n",
            "          58       0.29      0.29      0.29         7\n",
            "          60       0.00      0.00      0.00         0\n",
            "          62       0.56      0.50      0.53        10\n",
            "\n",
            "    accuracy                           0.81        69\n",
            "   macro avg       0.47      0.46      0.47        69\n",
            "weighted avg       0.82      0.81      0.82        69\n",
            "\n"
          ]
        },
        {
          "output_type": "stream",
          "name": "stderr",
          "text": [
            "/usr/local/lib/python3.10/dist-packages/sklearn/metrics/_classification.py:1344: UndefinedMetricWarning: Recall and F-score are ill-defined and being set to 0.0 in labels with no true samples. Use `zero_division` parameter to control this behavior.\n",
            "  _warn_prf(average, modifier, msg_start, len(result))\n",
            "/usr/local/lib/python3.10/dist-packages/sklearn/metrics/_classification.py:1344: UndefinedMetricWarning: Recall and F-score are ill-defined and being set to 0.0 in labels with no true samples. Use `zero_division` parameter to control this behavior.\n",
            "  _warn_prf(average, modifier, msg_start, len(result))\n",
            "/usr/local/lib/python3.10/dist-packages/sklearn/metrics/_classification.py:1344: UndefinedMetricWarning: Recall and F-score are ill-defined and being set to 0.0 in labels with no true samples. Use `zero_division` parameter to control this behavior.\n",
            "  _warn_prf(average, modifier, msg_start, len(result))\n"
          ]
        }
      ]
    }
  ]
}